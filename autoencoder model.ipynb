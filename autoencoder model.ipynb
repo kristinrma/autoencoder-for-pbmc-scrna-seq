{
 "cells": [
  {
   "cell_type": "code",
   "execution_count": 1,
   "id": "86c6724f",
   "metadata": {},
   "outputs": [
    {
     "name": "stderr",
     "output_type": "stream",
     "text": [
      "2022-11-09 05:53:50.875442: W tensorflow/stream_executor/platform/default/dso_loader.cc:64] Could not load dynamic library 'libcudart.so.11.0'; dlerror: libcudart.so.11.0: cannot open shared object file: No such file or directory\n",
      "2022-11-09 05:53:50.875514: I tensorflow/stream_executor/cuda/cudart_stub.cc:29] Ignore above cudart dlerror if you do not have a GPU set up on your machine.\n"
     ]
    }
   ],
   "source": [
    "import pandas as pd\n",
    "import numpy as np\n",
    "import keras\n",
    "from keras import layers\n",
    "from sklearn.utils import shuffle\n",
    "from sklearn.model_selection import train_test_split"
   ]
  },
  {
   "cell_type": "code",
   "execution_count": 9,
   "id": "c9c68412",
   "metadata": {},
   "outputs": [],
   "source": [
    "labels_pd = pd.read_csv(\"labels.csv\", index_col=0)\n",
    "counts_pd = pd.read_csv(\"processed_counts.csv\", index_col=0)"
   ]
  },
  {
   "cell_type": "code",
   "execution_count": 10,
   "id": "8e827cf1",
   "metadata": {},
   "outputs": [],
   "source": [
    "X, y = shuffle(counts_pd, labels_pd, random_state=0)\n",
    "X_train, X_test, y_train, y_test = train_test_split(X, y, test_size=0.2, random_state=0)"
   ]
  },
  {
   "cell_type": "code",
   "execution_count": 11,
   "id": "74984002",
   "metadata": {},
   "outputs": [],
   "source": [
    "input = keras.Input(shape=(765,))\n",
    "h_1 = layers.Dense(64, activation='relu')(input)\n",
    "h_2 = layers.Dense(32, activation='sigmoid', activity_regularizer=keras.regularizers.l1(1e-3))(h_1)\n",
    "encode = layers.Dense(32, activation='relu', activity_regularizer=keras.regularizers.l1(1e-4))(h_2)\n",
    "out = layers.Dense(765, activation='relu')(encode)"
   ]
  },
  {
   "cell_type": "code",
   "execution_count": 12,
   "id": "c1e585fa",
   "metadata": {},
   "outputs": [],
   "source": [
    "encoder_model = keras.Model(input, encode)"
   ]
  },
  {
   "cell_type": "code",
   "execution_count": 16,
   "id": "b49fb305",
   "metadata": {},
   "outputs": [],
   "source": [
    "autoencoder = keras.Model(input, out)"
   ]
  },
  {
   "cell_type": "code",
   "execution_count": 13,
   "id": "957babd1",
   "metadata": {},
   "outputs": [],
   "source": [
    "\n",
    "autoencoder.compile(optimizer='adam', loss='mse')"
   ]
  },
  {
   "cell_type": "code",
   "execution_count": 14,
   "id": "0fcabd46",
   "metadata": {},
   "outputs": [
    {
     "name": "stdout",
     "output_type": "stream",
     "text": [
      "Epoch 1/50\n",
      "3/3 [==============================] - 1s 124ms/step - loss: 1.0299 - val_loss: 0.9889\n",
      "Epoch 2/50\n",
      "3/3 [==============================] - 0s 19ms/step - loss: 1.0263 - val_loss: 0.9868\n",
      "Epoch 3/50\n",
      "3/3 [==============================] - 0s 19ms/step - loss: 1.0238 - val_loss: 0.9851\n",
      "Epoch 4/50\n",
      "3/3 [==============================] - 0s 19ms/step - loss: 1.0217 - val_loss: 0.9835\n",
      "Epoch 5/50\n",
      "3/3 [==============================] - 0s 19ms/step - loss: 1.0199 - val_loss: 0.9820\n",
      "Epoch 6/50\n",
      "3/3 [==============================] - 0s 19ms/step - loss: 1.0182 - val_loss: 0.9805\n",
      "Epoch 7/50\n",
      "3/3 [==============================] - 0s 18ms/step - loss: 1.0164 - val_loss: 0.9790\n",
      "Epoch 8/50\n",
      "3/3 [==============================] - 0s 19ms/step - loss: 1.0144 - val_loss: 0.9773\n",
      "Epoch 9/50\n",
      "3/3 [==============================] - 0s 19ms/step - loss: 1.0124 - val_loss: 0.9754\n",
      "Epoch 10/50\n",
      "3/3 [==============================] - 0s 19ms/step - loss: 1.0101 - val_loss: 0.9733\n",
      "Epoch 11/50\n",
      "3/3 [==============================] - 0s 19ms/step - loss: 1.0077 - val_loss: 0.9710\n",
      "Epoch 12/50\n",
      "3/3 [==============================] - 0s 19ms/step - loss: 1.0051 - val_loss: 0.9686\n",
      "Epoch 13/50\n",
      "3/3 [==============================] - 0s 19ms/step - loss: 1.0023 - val_loss: 0.9662\n",
      "Epoch 14/50\n",
      "3/3 [==============================] - 0s 19ms/step - loss: 0.9994 - val_loss: 0.9636\n",
      "Epoch 15/50\n",
      "3/3 [==============================] - 0s 18ms/step - loss: 0.9963 - val_loss: 0.9610\n",
      "Epoch 16/50\n",
      "3/3 [==============================] - 0s 18ms/step - loss: 0.9932 - val_loss: 0.9584\n",
      "Epoch 17/50\n",
      "3/3 [==============================] - 0s 18ms/step - loss: 0.9901 - val_loss: 0.9559\n",
      "Epoch 18/50\n",
      "3/3 [==============================] - 0s 18ms/step - loss: 0.9869 - val_loss: 0.9536\n",
      "Epoch 19/50\n",
      "3/3 [==============================] - 0s 18ms/step - loss: 0.9838 - val_loss: 0.9513\n",
      "Epoch 20/50\n",
      "3/3 [==============================] - 0s 20ms/step - loss: 0.9809 - val_loss: 0.9491\n",
      "Epoch 21/50\n",
      "3/3 [==============================] - 0s 18ms/step - loss: 0.9779 - val_loss: 0.9471\n",
      "Epoch 22/50\n",
      "3/3 [==============================] - 0s 18ms/step - loss: 0.9751 - val_loss: 0.9452\n",
      "Epoch 23/50\n",
      "3/3 [==============================] - 0s 17ms/step - loss: 0.9725 - val_loss: 0.9434\n",
      "Epoch 24/50\n",
      "3/3 [==============================] - 0s 19ms/step - loss: 0.9699 - val_loss: 0.9418\n",
      "Epoch 25/50\n",
      "3/3 [==============================] - 0s 18ms/step - loss: 0.9675 - val_loss: 0.9402\n",
      "Epoch 26/50\n",
      "3/3 [==============================] - 0s 23ms/step - loss: 0.9651 - val_loss: 0.9388\n",
      "Epoch 27/50\n",
      "3/3 [==============================] - 0s 22ms/step - loss: 0.9629 - val_loss: 0.9374\n",
      "Epoch 28/50\n",
      "3/3 [==============================] - 0s 20ms/step - loss: 0.9607 - val_loss: 0.9361\n",
      "Epoch 29/50\n",
      "3/3 [==============================] - 0s 20ms/step - loss: 0.9586 - val_loss: 0.9349\n",
      "Epoch 30/50\n",
      "3/3 [==============================] - 0s 20ms/step - loss: 0.9565 - val_loss: 0.9336\n",
      "Epoch 31/50\n",
      "3/3 [==============================] - 0s 21ms/step - loss: 0.9545 - val_loss: 0.9324\n",
      "Epoch 32/50\n",
      "3/3 [==============================] - 0s 18ms/step - loss: 0.9525 - val_loss: 0.9313\n",
      "Epoch 33/50\n",
      "3/3 [==============================] - 0s 19ms/step - loss: 0.9506 - val_loss: 0.9303\n",
      "Epoch 34/50\n",
      "3/3 [==============================] - 0s 19ms/step - loss: 0.9487 - val_loss: 0.9293\n",
      "Epoch 35/50\n",
      "3/3 [==============================] - 0s 19ms/step - loss: 0.9469 - val_loss: 0.9283\n",
      "Epoch 36/50\n",
      "3/3 [==============================] - 0s 19ms/step - loss: 0.9451 - val_loss: 0.9274\n",
      "Epoch 37/50\n",
      "3/3 [==============================] - 0s 19ms/step - loss: 0.9433 - val_loss: 0.9265\n",
      "Epoch 38/50\n",
      "3/3 [==============================] - 0s 20ms/step - loss: 0.9416 - val_loss: 0.9256\n",
      "Epoch 39/50\n",
      "3/3 [==============================] - 0s 19ms/step - loss: 0.9400 - val_loss: 0.9248\n",
      "Epoch 40/50\n",
      "3/3 [==============================] - 0s 18ms/step - loss: 0.9383 - val_loss: 0.9240\n",
      "Epoch 41/50\n",
      "3/3 [==============================] - 0s 19ms/step - loss: 0.9367 - val_loss: 0.9232\n",
      "Epoch 42/50\n",
      "3/3 [==============================] - 0s 19ms/step - loss: 0.9352 - val_loss: 0.9225\n",
      "Epoch 43/50\n",
      "3/3 [==============================] - 0s 19ms/step - loss: 0.9337 - val_loss: 0.9218\n",
      "Epoch 44/50\n",
      "3/3 [==============================] - 0s 19ms/step - loss: 0.9322 - val_loss: 0.9211\n",
      "Epoch 45/50\n",
      "3/3 [==============================] - 0s 18ms/step - loss: 0.9308 - val_loss: 0.9204\n",
      "Epoch 46/50\n",
      "3/3 [==============================] - 0s 18ms/step - loss: 0.9295 - val_loss: 0.9197\n",
      "Epoch 47/50\n",
      "3/3 [==============================] - 0s 18ms/step - loss: 0.9282 - val_loss: 0.9191\n",
      "Epoch 48/50\n",
      "3/3 [==============================] - 0s 18ms/step - loss: 0.9270 - val_loss: 0.9185\n",
      "Epoch 49/50\n",
      "3/3 [==============================] - 0s 19ms/step - loss: 0.9258 - val_loss: 0.9179\n",
      "Epoch 50/50\n",
      "3/3 [==============================] - 0s 18ms/step - loss: 0.9246 - val_loss: 0.9173\n"
     ]
    },
    {
     "data": {
      "text/plain": [
       "<keras.callbacks.History at 0x7f4222bd1640>"
      ]
     },
     "execution_count": 14,
     "metadata": {},
     "output_type": "execute_result"
    }
   ],
   "source": [
    "autoencoder.fit(X_train, X_train,\n",
    "                epochs=50,\n",
    "                batch_size=256,\n",
    "                validation_data=(X_test, X_test))"
   ]
  },
  {
   "cell_type": "code",
   "execution_count": null,
   "id": "245ab03f",
   "metadata": {},
   "outputs": [],
   "source": []
  }
 ],
 "metadata": {
  "kernelspec": {
   "display_name": "Python 3 (ipykernel)",
   "language": "python",
   "name": "python3"
  },
  "language_info": {
   "codemirror_mode": {
    "name": "ipython",
    "version": 3
   },
   "file_extension": ".py",
   "mimetype": "text/x-python",
   "name": "python",
   "nbconvert_exporter": "python",
   "pygments_lexer": "ipython3",
   "version": "3.9.13"
  }
 },
 "nbformat": 4,
 "nbformat_minor": 5
}
