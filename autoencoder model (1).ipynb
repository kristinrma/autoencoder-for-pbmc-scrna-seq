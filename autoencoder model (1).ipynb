{
 "cells": [
  {
   "cell_type": "code",
   "execution_count": 18,
   "id": "86c6724f",
   "metadata": {},
   "outputs": [],
   "source": [
    "import pandas as pd\n",
    "import numpy as np\n",
    "import keras\n",
    "from keras import layers\n",
    "from sklearn.utils import shuffle\n",
    "from sklearn.model_selection import train_test_split"
   ]
  },
  {
   "cell_type": "code",
   "execution_count": 19,
   "id": "c9c68412",
   "metadata": {},
   "outputs": [],
   "source": [
    "labels_pd = pd.read_csv(\"labels.csv\", index_col=0)\n",
    "counts_pd = pd.read_csv(\"processed_counts.csv\", index_col=0)"
   ]
  },
  {
   "cell_type": "code",
   "execution_count": 20,
   "id": "8e827cf1",
   "metadata": {},
   "outputs": [],
   "source": [
    "X, y = shuffle(counts_pd, labels_pd, random_state=0)\n",
    "X_train, X_test, y_train, y_test = train_test_split(X, y, test_size=0.2, random_state=0)"
   ]
  },
  {
   "cell_type": "code",
   "execution_count": 21,
   "id": "74984002",
   "metadata": {},
   "outputs": [],
   "source": [
    "input = keras.Input(shape=(765,))\n",
    "h_1 = layers.Dense(64, activation='relu')(input)\n",
    "h_2 = layers.Dense(32, activation='sigmoid', activity_regularizer=keras.regularizers.l1(1e-3))(h_1)\n",
    "encode = layers.Dense(32, activation='relu', activity_regularizer=keras.regularizers.l1(1e-4))(h_2)\n",
    "out = layers.Dense(765, activation='relu')(encode)"
   ]
  },
  {
   "cell_type": "code",
   "execution_count": 22,
   "id": "c1e585fa",
   "metadata": {},
   "outputs": [],
   "source": [
    "encoder_model = keras.Model(input, encode)"
   ]
  },
  {
   "cell_type": "code",
   "execution_count": 23,
   "id": "0528b0f5",
   "metadata": {},
   "outputs": [],
   "source": [
    "autoencoder = keras.Model(input, out)"
   ]
  },
  {
   "cell_type": "code",
   "execution_count": 24,
   "id": "957babd1",
   "metadata": {},
   "outputs": [],
   "source": [
    "\n",
    "autoencoder.compile(optimizer='adam', loss='mse')"
   ]
  },
  {
   "cell_type": "code",
   "execution_count": 28,
   "id": "0fcabd46",
   "metadata": {},
   "outputs": [
    {
     "name": "stdout",
     "output_type": "stream",
     "text": [
      "Epoch 1/60\n",
      "3/3 [==============================] - 0s 45ms/step - loss: 0.8559 - val_loss: 0.9193\n",
      "Epoch 2/60\n",
      "3/3 [==============================] - 0s 17ms/step - loss: 0.8555 - val_loss: 0.9189\n",
      "Epoch 3/60\n",
      "3/3 [==============================] - 0s 18ms/step - loss: 0.8550 - val_loss: 0.9194\n",
      "Epoch 4/60\n",
      "3/3 [==============================] - 0s 17ms/step - loss: 0.8546 - val_loss: 0.9203\n",
      "Epoch 5/60\n",
      "3/3 [==============================] - 0s 18ms/step - loss: 0.8541 - val_loss: 0.9197\n",
      "Epoch 6/60\n",
      "3/3 [==============================] - 0s 18ms/step - loss: 0.8537 - val_loss: 0.9197\n",
      "Epoch 7/60\n",
      "3/3 [==============================] - 0s 18ms/step - loss: 0.8532 - val_loss: 0.9207\n",
      "Epoch 8/60\n",
      "3/3 [==============================] - 0s 19ms/step - loss: 0.8528 - val_loss: 0.9208\n",
      "Epoch 9/60\n",
      "3/3 [==============================] - 0s 18ms/step - loss: 0.8523 - val_loss: 0.9208\n",
      "Epoch 10/60\n",
      "3/3 [==============================] - 0s 18ms/step - loss: 0.8518 - val_loss: 0.9208\n",
      "Epoch 11/60\n",
      "3/3 [==============================] - 0s 22ms/step - loss: 0.8514 - val_loss: 0.9205\n",
      "Epoch 12/60\n",
      "3/3 [==============================] - 0s 19ms/step - loss: 0.8509 - val_loss: 0.9210\n",
      "Epoch 13/60\n",
      "3/3 [==============================] - 0s 19ms/step - loss: 0.8505 - val_loss: 0.9207\n",
      "Epoch 14/60\n",
      "3/3 [==============================] - 0s 19ms/step - loss: 0.8500 - val_loss: 0.9207\n",
      "Epoch 15/60\n",
      "3/3 [==============================] - 0s 18ms/step - loss: 0.8496 - val_loss: 0.9212\n",
      "Epoch 16/60\n",
      "3/3 [==============================] - 0s 18ms/step - loss: 0.8491 - val_loss: 0.9209\n",
      "Epoch 17/60\n",
      "3/3 [==============================] - 0s 19ms/step - loss: 0.8488 - val_loss: 0.9214\n",
      "Epoch 18/60\n",
      "3/3 [==============================] - 0s 17ms/step - loss: 0.8483 - val_loss: 0.9220\n",
      "Epoch 19/60\n",
      "3/3 [==============================] - 0s 22ms/step - loss: 0.8479 - val_loss: 0.9223\n",
      "Epoch 20/60\n",
      "3/3 [==============================] - 0s 18ms/step - loss: 0.8475 - val_loss: 0.9220\n",
      "Epoch 21/60\n",
      "3/3 [==============================] - 0s 18ms/step - loss: 0.8470 - val_loss: 0.9219\n",
      "Epoch 22/60\n",
      "3/3 [==============================] - 0s 18ms/step - loss: 0.8465 - val_loss: 0.9218\n",
      "Epoch 23/60\n",
      "3/3 [==============================] - 0s 18ms/step - loss: 0.8460 - val_loss: 0.9223\n",
      "Epoch 24/60\n",
      "3/3 [==============================] - 0s 18ms/step - loss: 0.8456 - val_loss: 0.9232\n",
      "Epoch 25/60\n",
      "3/3 [==============================] - 0s 18ms/step - loss: 0.8451 - val_loss: 0.9230\n",
      "Epoch 26/60\n",
      "3/3 [==============================] - 0s 18ms/step - loss: 0.8446 - val_loss: 0.9228\n",
      "Epoch 27/60\n",
      "3/3 [==============================] - 0s 18ms/step - loss: 0.8442 - val_loss: 0.9228\n",
      "Epoch 28/60\n",
      "3/3 [==============================] - 0s 17ms/step - loss: 0.8437 - val_loss: 0.9228\n",
      "Epoch 29/60\n",
      "3/3 [==============================] - 0s 18ms/step - loss: 0.8433 - val_loss: 0.9231\n",
      "Epoch 30/60\n",
      "3/3 [==============================] - 0s 19ms/step - loss: 0.8428 - val_loss: 0.9238\n",
      "Epoch 31/60\n",
      "3/3 [==============================] - 0s 18ms/step - loss: 0.8423 - val_loss: 0.9238\n",
      "Epoch 32/60\n",
      "3/3 [==============================] - 0s 18ms/step - loss: 0.8418 - val_loss: 0.9239\n",
      "Epoch 33/60\n",
      "3/3 [==============================] - 0s 19ms/step - loss: 0.8414 - val_loss: 0.9247\n",
      "Epoch 34/60\n",
      "3/3 [==============================] - 0s 19ms/step - loss: 0.8410 - val_loss: 0.9250\n",
      "Epoch 35/60\n",
      "3/3 [==============================] - 0s 19ms/step - loss: 0.8405 - val_loss: 0.9251\n",
      "Epoch 36/60\n",
      "3/3 [==============================] - 0s 18ms/step - loss: 0.8401 - val_loss: 0.9252\n",
      "Epoch 37/60\n",
      "3/3 [==============================] - 0s 17ms/step - loss: 0.8396 - val_loss: 0.9255\n",
      "Epoch 38/60\n",
      "3/3 [==============================] - 0s 18ms/step - loss: 0.8391 - val_loss: 0.9254\n",
      "Epoch 39/60\n",
      "3/3 [==============================] - 0s 17ms/step - loss: 0.8386 - val_loss: 0.9255\n",
      "Epoch 40/60\n",
      "3/3 [==============================] - 0s 18ms/step - loss: 0.8382 - val_loss: 0.9255\n",
      "Epoch 41/60\n",
      "3/3 [==============================] - 0s 20ms/step - loss: 0.8377 - val_loss: 0.9252\n",
      "Epoch 42/60\n",
      "3/3 [==============================] - 0s 18ms/step - loss: 0.8373 - val_loss: 0.9253\n",
      "Epoch 43/60\n",
      "3/3 [==============================] - 0s 18ms/step - loss: 0.8369 - val_loss: 0.9259\n",
      "Epoch 44/60\n",
      "3/3 [==============================] - 0s 19ms/step - loss: 0.8365 - val_loss: 0.9259\n",
      "Epoch 45/60\n",
      "3/3 [==============================] - 0s 19ms/step - loss: 0.8361 - val_loss: 0.9261\n",
      "Epoch 46/60\n",
      "3/3 [==============================] - 0s 19ms/step - loss: 0.8357 - val_loss: 0.9263\n",
      "Epoch 47/60\n",
      "3/3 [==============================] - 0s 20ms/step - loss: 0.8352 - val_loss: 0.9263\n",
      "Epoch 48/60\n",
      "3/3 [==============================] - 0s 18ms/step - loss: 0.8348 - val_loss: 0.9271\n",
      "Epoch 49/60\n",
      "3/3 [==============================] - 0s 20ms/step - loss: 0.8344 - val_loss: 0.9276\n",
      "Epoch 50/60\n",
      "3/3 [==============================] - 0s 19ms/step - loss: 0.8339 - val_loss: 0.9274\n",
      "Epoch 51/60\n",
      "3/3 [==============================] - 0s 20ms/step - loss: 0.8335 - val_loss: 0.9275\n",
      "Epoch 52/60\n",
      "3/3 [==============================] - 0s 18ms/step - loss: 0.8331 - val_loss: 0.9281\n",
      "Epoch 53/60\n",
      "3/3 [==============================] - 0s 18ms/step - loss: 0.8327 - val_loss: 0.9281\n",
      "Epoch 54/60\n",
      "3/3 [==============================] - 0s 18ms/step - loss: 0.8322 - val_loss: 0.9282\n",
      "Epoch 55/60\n",
      "3/3 [==============================] - 0s 19ms/step - loss: 0.8318 - val_loss: 0.9285\n",
      "Epoch 56/60\n",
      "3/3 [==============================] - 0s 19ms/step - loss: 0.8313 - val_loss: 0.9286\n",
      "Epoch 57/60\n",
      "3/3 [==============================] - 0s 18ms/step - loss: 0.8309 - val_loss: 0.9287\n",
      "Epoch 58/60\n",
      "3/3 [==============================] - 0s 18ms/step - loss: 0.8305 - val_loss: 0.9292\n",
      "Epoch 59/60\n",
      "3/3 [==============================] - 0s 18ms/step - loss: 0.8302 - val_loss: 0.9294\n",
      "Epoch 60/60\n",
      "3/3 [==============================] - 0s 18ms/step - loss: 0.8298 - val_loss: 0.9289\n"
     ]
    },
    {
     "data": {
      "text/plain": [
       "<keras.callbacks.History at 0x7f42225396d0>"
      ]
     },
     "execution_count": 28,
     "metadata": {},
     "output_type": "execute_result"
    }
   ],
   "source": [
    "autoencoder.fit(X_train, X_train,\n",
    "                epochs=60,\n",
    "                batch_size=252,\n",
    "                validation_data=(X_test, X_test))"
   ]
  }
 ],
 "metadata": {
  "kernelspec": {
   "display_name": "Python 3 (ipykernel)",
   "language": "python",
   "name": "python3"
  },
  "language_info": {
   "codemirror_mode": {
    "name": "ipython",
    "version": 3
   },
   "file_extension": ".py",
   "mimetype": "text/x-python",
   "name": "python",
   "nbconvert_exporter": "python",
   "pygments_lexer": "ipython3",
   "version": "3.9.13"
  }
 },
 "nbformat": 4,
 "nbformat_minor": 5
}
